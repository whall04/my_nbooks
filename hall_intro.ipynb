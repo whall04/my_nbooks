{
 "cells": [
  {
   "cell_type": "markdown",
   "id": "d41d4d52-3e22-4460-b7bb-a6d57d1e60bf",
   "metadata": {
    "tags": []
   },
   "source": [
    "# Intro Notebook"
   ]
  },
  {
   "cell_type": "markdown",
   "id": "fc178722-4e36-4cfc-9bfe-9c49a3a8b5ea",
   "metadata": {},
   "source": [
    "## Wesley Hall"
   ]
  },
  {
   "cell_type": "code",
   "execution_count": 2,
   "id": "1cbd95a3-dba4-4355-84c1-4e864b918de3",
   "metadata": {},
   "outputs": [],
   "source": [
    "import random\n",
    "nums = [random.randint(30,100) for i in range(40)]"
   ]
  },
  {
   "cell_type": "code",
   "execution_count": 3,
   "id": "0e7060d2-0224-44e9-a007-2028286c2649",
   "metadata": {},
   "outputs": [
    {
     "name": "stdout",
     "output_type": "stream",
     "text": [
      "31 34 36 39 41 48 53 54 54 55 56 56 56 60 62 62 62 65 66 66 66 67 67 72 73 73 74 76 81 81 81 84 89 90 91 92 93 94 97 100 "
     ]
    }
   ],
   "source": [
    "nums.sort()\n",
    "for i in nums:\n",
    "    print(i, end=\" \")"
   ]
  },
  {
   "cell_type": "markdown",
   "id": "76c53432-8348-4377-a179-fd3cd00454e9",
   "metadata": {},
   "source": [
    "## The Sample Mean\n",
    "* The sample mean is calculated by adding all the items in the sample and dividing the sum by by the number of items."
   ]
  },
  {
   "cell_type": "markdown",
   "id": "1351a646-9258-4c67-87b1-94b349548561",
   "metadata": {},
   "source": [
    "$\\bar{x}$ = $\\frac{\\sum x_{i}}{n}$"
   ]
  },
  {
   "cell_type": "code",
   "execution_count": 6,
   "id": "13e97d7f-8534-4214-bd2e-e8ebea9c26a1",
   "metadata": {},
   "outputs": [
    {
     "name": "stdout",
     "output_type": "stream",
     "text": [
      "67.42\n"
     ]
    }
   ],
   "source": [
    "s_mean = sum(nums)/len(nums)\n",
    "print(f'{s_mean:.2f}')"
   ]
  },
  {
   "cell_type": "markdown",
   "id": "ef353b91-cb97-413c-b503-8c4f45a04fc0",
   "metadata": {},
   "source": [
    "## The Median\n",
    "[Statistical Median](https://www.techtarget.com/searchdatacenter/definition/statistical-mean-median-mode-and-range#:~:text=The%20statistical%20median%20is%20the,the%20middle%20is%20the%20median)"
   ]
  },
  {
   "cell_type": "code",
   "execution_count": 12,
   "id": "30d8faf8-f332-44e2-aea8-220d2877da1b",
   "metadata": {},
   "outputs": [
    {
     "name": "stdout",
     "output_type": "stream",
     "text": [
      "66.0\n"
     ]
    }
   ],
   "source": [
    "# To calculate the median of an even number of values, take the mean of the middle two values.\n",
    "n = len(nums)\n",
    "median = (nums[n//2-1]+nums[n//2])/2\n",
    "print(f'{median:.1f}')"
   ]
  },
  {
   "cell_type": "code",
   "execution_count": null,
   "id": "d3c7b75a-b9b8-452c-a0a0-7876aa843091",
   "metadata": {},
   "outputs": [],
   "source": []
  }
 ],
 "metadata": {
  "kernelspec": {
   "display_name": "Python 3 (ipykernel)",
   "language": "python",
   "name": "python3"
  },
  "language_info": {
   "codemirror_mode": {
    "name": "ipython",
    "version": 3
   },
   "file_extension": ".py",
   "mimetype": "text/x-python",
   "name": "python",
   "nbconvert_exporter": "python",
   "pygments_lexer": "ipython3",
   "version": "3.9.13"
  }
 },
 "nbformat": 4,
 "nbformat_minor": 5
}
